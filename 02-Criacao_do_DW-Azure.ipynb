{
 "cells": [
  {
   "cell_type": "code",
   "execution_count": 2,
   "id": "58b35fa7",
   "metadata": {},
   "outputs": [],
   "source": [
    "import mysql.connector\n",
    "import pandas as pd\n",
    "#from datetime import date\n",
    "from datetime import datetime, timedelta\n",
    "from sqlalchemy import create_engine\n",
    "import pymysql"
   ]
  },
  {
   "cell_type": "markdown",
   "id": "65949234",
   "metadata": {},
   "source": [
    "## Criando um DataFrame a partir do DW local"
   ]
  },
  {
   "cell_type": "code",
   "execution_count": 3,
   "id": "a02ee41e",
   "metadata": {},
   "outputs": [
    {
     "data": {
      "text/html": [
       "<div>\n",
       "<style scoped>\n",
       "    .dataframe tbody tr th:only-of-type {\n",
       "        vertical-align: middle;\n",
       "    }\n",
       "\n",
       "    .dataframe tbody tr th {\n",
       "        vertical-align: top;\n",
       "    }\n",
       "\n",
       "    .dataframe thead th {\n",
       "        text-align: right;\n",
       "    }\n",
       "</style>\n",
       "<table border=\"1\" class=\"dataframe\">\n",
       "  <thead>\n",
       "    <tr style=\"text-align: right;\">\n",
       "      <th></th>\n",
       "      <th>Código de cliente</th>\n",
       "      <th>Nascimento</th>\n",
       "      <th>Sexo</th>\n",
       "      <th>Consultor</th>\n",
       "      <th>Professor</th>\n",
       "      <th>Modalidade</th>\n",
       "      <th>Como Conheceu</th>\n",
       "      <th>data última presença</th>\n",
       "      <th>hora última presença</th>\n",
       "    </tr>\n",
       "  </thead>\n",
       "  <tbody>\n",
       "    <tr>\n",
       "      <th>0</th>\n",
       "      <td>12019</td>\n",
       "      <td>1964-09-28</td>\n",
       "      <td>Feminino</td>\n",
       "      <td>SANDRA DANTAS</td>\n",
       "      <td>SEM PROFESSOR</td>\n",
       "      <td>PLANO COMPLETO</td>\n",
       "      <td>INDICAÇÃO</td>\n",
       "      <td>2021-01-07</td>\n",
       "      <td>1900-01-01 08:28:00</td>\n",
       "    </tr>\n",
       "  </tbody>\n",
       "</table>\n",
       "</div>"
      ],
      "text/plain": [
       "   Código de cliente Nascimento      Sexo      Consultor      Professor  \\\n",
       "0              12019 1964-09-28  Feminino  SANDRA DANTAS  SEM PROFESSOR   \n",
       "\n",
       "       Modalidade Como Conheceu data última presença hora última presença  \n",
       "0  PLANO COMPLETO     INDICAÇÃO           2021-01-07  1900-01-01 08:28:00  "
      ]
     },
     "execution_count": 3,
     "metadata": {},
     "output_type": "execute_result"
    }
   ],
   "source": [
    "con = mysql.connector.connect(host='192.168.15.8',database='academia',user='user',password='user!123')\n",
    "cursor = con.cursor()\n",
    "\n",
    "df = pd.read_sql(\"SELECT * FROM dw_1 ORDER BY `data última presença`\", con);\n",
    "\n",
    "cursor.close()\n",
    "con.close()\n",
    "df.drop('index', axis=1, inplace = True)\n",
    "df.head(1)"
   ]
  },
  {
   "cell_type": "markdown",
   "id": "52c5a6a8",
   "metadata": {},
   "source": [
    "## Criação uma cópia do DW local na nuvem "
   ]
  },
  {
   "cell_type": "code",
   "execution_count": 4,
   "id": "32e7c378",
   "metadata": {},
   "outputs": [],
   "source": [
    "sqlEngine       = create_engine('mysql+pymysql://ralmeida@academiadb1:sQL#2022@academiadb1.mysql.database.azure.com:3306/academia', pool_recycle=3600)\n",
    "dbConnection    = sqlEngine.connect()\n",
    "\n",
    "try:\n",
    "\n",
    "    df.to_sql('dw_1', dbConnection, if_exists='append');\n",
    "\n",
    "except ValueError as vx:\n",
    "\n",
    "    print(vx)\n",
    "\n",
    "except Exception as ex:   \n",
    "\n",
    "    print(ex)\n",
    "\n",
    "finally:\n",
    "\n",
    "    dbConnection.close()"
   ]
  },
  {
   "cell_type": "code",
   "execution_count": null,
   "id": "c31c1c13",
   "metadata": {},
   "outputs": [],
   "source": []
  }
 ],
 "metadata": {
  "kernelspec": {
   "display_name": "Python 3",
   "language": "python",
   "name": "python3"
  },
  "language_info": {
   "codemirror_mode": {
    "name": "ipython",
    "version": 3
   },
   "file_extension": ".py",
   "mimetype": "text/x-python",
   "name": "python",
   "nbconvert_exporter": "python",
   "pygments_lexer": "ipython3",
   "version": "3.8.8"
  }
 },
 "nbformat": 4,
 "nbformat_minor": 5
}
