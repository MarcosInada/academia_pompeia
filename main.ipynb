{
 "cells": [
  {
   "cell_type": "code",
   "execution_count": 1,
   "id": "e624849d",
   "metadata": {},
   "outputs": [],
   "source": [
    "import pandas as pd\n",
    "import numpy as np\n",
    "from datetime import datetime, timedelta\n",
    "import streamlit as st\n",
    "import plotly.express as px\n",
    "import plotly.graph_objects as go"
   ]
  },
  {
   "cell_type": "code",
   "execution_count": 2,
   "id": "5d99b1b4",
   "metadata": {},
   "outputs": [],
   "source": [
    "df = pd.read_csv('pompeia.csv', sep = ';', usecols= ['Código','Nascimento','Sexo','Consultor','Professor','Último Status','Modalidade'])\n",
    "new_col_names = {'Código':'Código de cliente'}\n",
    "df = df.rename(new_col_names, axis = 'columns')"
   ]
  },
  {
   "cell_type": "code",
   "execution_count": 3,
   "id": "6d8fbb89",
   "metadata": {},
   "outputs": [
    {
     "data": {
      "text/html": [
       "<div>\n",
       "<style scoped>\n",
       "    .dataframe tbody tr th:only-of-type {\n",
       "        vertical-align: middle;\n",
       "    }\n",
       "\n",
       "    .dataframe tbody tr th {\n",
       "        vertical-align: top;\n",
       "    }\n",
       "\n",
       "    .dataframe thead th {\n",
       "        text-align: right;\n",
       "    }\n",
       "</style>\n",
       "<table border=\"1\" class=\"dataframe\">\n",
       "  <thead>\n",
       "    <tr style=\"text-align: right;\">\n",
       "      <th></th>\n",
       "      <th>Código de cliente</th>\n",
       "      <th>Nascimento</th>\n",
       "      <th>Sexo</th>\n",
       "      <th>Consultor</th>\n",
       "      <th>Professor</th>\n",
       "      <th>Último Status</th>\n",
       "      <th>Modalidade</th>\n",
       "    </tr>\n",
       "  </thead>\n",
       "  <tbody>\n",
       "    <tr>\n",
       "      <th>0</th>\n",
       "      <td>99955264</td>\n",
       "      <td>11/04/2020</td>\n",
       "      <td>Masculino</td>\n",
       "      <td>FERNANDA LUQUE</td>\n",
       "      <td>-</td>\n",
       "      <td>30/09/2021 05:15</td>\n",
       "      <td>-</td>\n",
       "    </tr>\n",
       "  </tbody>\n",
       "</table>\n",
       "</div>"
      ],
      "text/plain": [
       "   Código de cliente  Nascimento       Sexo       Consultor Professor  \\\n",
       "0           99955264  11/04/2020  Masculino  FERNANDA LUQUE         -   \n",
       "\n",
       "      Último Status Modalidade  \n",
       "0  30/09/2021 05:15          -  "
      ]
     },
     "execution_count": 3,
     "metadata": {},
     "output_type": "execute_result"
    }
   ],
   "source": [
    "df.head(1)"
   ]
  },
  {
   "cell_type": "code",
   "execution_count": 4,
   "id": "456189fd",
   "metadata": {},
   "outputs": [],
   "source": [
    "#Dividir a coluna do ultimo status em duas novas colunas no dataframe original, exluindo a coluna original\n",
    "df[['data última presença', 'hora última presença']] = df[\"Último Status\"].str.split(' ', expand = True)\n",
    "df.drop(columns =[\"Último Status\"], inplace = True)"
   ]
  },
  {
   "cell_type": "code",
   "execution_count": 5,
   "id": "8d11f80b",
   "metadata": {},
   "outputs": [],
   "source": [
    "# Convertendo strings para date e time\n",
    "df['Nascimento'] = pd.to_datetime(df['Nascimento'], format=\"%d/%m/%Y\")\n",
    "df['data última presença'] = pd.to_datetime(df['data última presença'], format=\"%d/%m/%Y\")\n",
    "df['hora última presença'] = pd.to_datetime(df['hora última presença'], format=\"%H:%M\")"
   ]
  },
  {
   "cell_type": "code",
   "execution_count": 6,
   "id": "53f75f96",
   "metadata": {},
   "outputs": [],
   "source": [
    "#O cliente sedentário é o primeiro registro na ordenação por data do último status\n",
    "cliente_sedentario = df[['Código de cliente','data última presença']].sort_values(by=['data última presença'])\n",
    "cliente_sedentario = cliente_sedentario.head(1)"
   ]
  },
  {
   "cell_type": "code",
   "execution_count": 7,
   "id": "f93c5ab0",
   "metadata": {},
   "outputs": [
    {
     "data": {
      "text/html": [
       "<div>\n",
       "<style scoped>\n",
       "    .dataframe tbody tr th:only-of-type {\n",
       "        vertical-align: middle;\n",
       "    }\n",
       "\n",
       "    .dataframe tbody tr th {\n",
       "        vertical-align: top;\n",
       "    }\n",
       "\n",
       "    .dataframe thead th {\n",
       "        text-align: right;\n",
       "    }\n",
       "</style>\n",
       "<table border=\"1\" class=\"dataframe\">\n",
       "  <thead>\n",
       "    <tr style=\"text-align: right;\">\n",
       "      <th></th>\n",
       "      <th>Código de cliente</th>\n",
       "      <th>data última presença</th>\n",
       "    </tr>\n",
       "  </thead>\n",
       "  <tbody>\n",
       "    <tr>\n",
       "      <th>464</th>\n",
       "      <td>12019</td>\n",
       "      <td>2021-01-07</td>\n",
       "    </tr>\n",
       "  </tbody>\n",
       "</table>\n",
       "</div>"
      ],
      "text/plain": [
       "     Código de cliente data última presença\n",
       "464              12019           2021-01-07"
      ]
     },
     "execution_count": 7,
     "metadata": {},
     "output_type": "execute_result"
    }
   ],
   "source": [
    "#1. Qual é o cliente que não vai a mais tempo?\n",
    "cliente_sedentario"
   ]
  },
  {
   "cell_type": "code",
   "execution_count": 8,
   "id": "56e6304b",
   "metadata": {},
   "outputs": [
    {
     "data": {
      "text/html": [
       "<div>\n",
       "<style scoped>\n",
       "    .dataframe tbody tr th:only-of-type {\n",
       "        vertical-align: middle;\n",
       "    }\n",
       "\n",
       "    .dataframe tbody tr th {\n",
       "        vertical-align: top;\n",
       "    }\n",
       "\n",
       "    .dataframe thead th {\n",
       "        text-align: right;\n",
       "    }\n",
       "</style>\n",
       "<table border=\"1\" class=\"dataframe\">\n",
       "  <thead>\n",
       "    <tr style=\"text-align: right;\">\n",
       "      <th></th>\n",
       "      <th>Total</th>\n",
       "    </tr>\n",
       "    <tr>\n",
       "      <th>Consultor</th>\n",
       "      <th></th>\n",
       "    </tr>\n",
       "  </thead>\n",
       "  <tbody>\n",
       "    <tr>\n",
       "      <th>DANDARA MORERIO</th>\n",
       "      <td>301</td>\n",
       "    </tr>\n",
       "    <tr>\n",
       "      <th>FERNANDA LUQUE</th>\n",
       "      <td>292</td>\n",
       "    </tr>\n",
       "    <tr>\n",
       "      <th>JENIFFER MENEZES</th>\n",
       "      <td>274</td>\n",
       "    </tr>\n",
       "    <tr>\n",
       "      <th>LAIS VASQUES PIMENTA</th>\n",
       "      <td>146</td>\n",
       "    </tr>\n",
       "    <tr>\n",
       "      <th>SANDRA DANTAS</th>\n",
       "      <td>83</td>\n",
       "    </tr>\n",
       "    <tr>\n",
       "      <th>HERCILIA DA COSTA GOES DE ANDRADE</th>\n",
       "      <td>5</td>\n",
       "    </tr>\n",
       "    <tr>\n",
       "      <th>-</th>\n",
       "      <td>2</td>\n",
       "    </tr>\n",
       "  </tbody>\n",
       "</table>\n",
       "</div>"
      ],
      "text/plain": [
       "                                   Total\n",
       "Consultor                               \n",
       "DANDARA MORERIO                      301\n",
       "FERNANDA LUQUE                       292\n",
       "JENIFFER MENEZES                     274\n",
       "LAIS VASQUES PIMENTA                 146\n",
       "SANDRA DANTAS                         83\n",
       "HERCILIA DA COSTA GOES DE ANDRADE      5\n",
       "-                                      2"
      ]
     },
     "execution_count": 8,
     "metadata": {},
     "output_type": "execute_result"
    }
   ],
   "source": [
    "consultores = df[['Consultor']].groupby('Consultor').agg(Total=('Consultor','count')).sort_values(by='Total', ascending=False)\n",
    "consultores.head(7)"
   ]
  },
  {
   "cell_type": "code",
   "execution_count": 9,
   "id": "13aac66d",
   "metadata": {},
   "outputs": [
    {
     "data": {
      "text/html": [
       "<div>\n",
       "<style scoped>\n",
       "    .dataframe tbody tr th:only-of-type {\n",
       "        vertical-align: middle;\n",
       "    }\n",
       "\n",
       "    .dataframe tbody tr th {\n",
       "        vertical-align: top;\n",
       "    }\n",
       "\n",
       "    .dataframe thead th {\n",
       "        text-align: right;\n",
       "    }\n",
       "</style>\n",
       "<table border=\"1\" class=\"dataframe\">\n",
       "  <thead>\n",
       "    <tr style=\"text-align: right;\">\n",
       "      <th></th>\n",
       "      <th>Total</th>\n",
       "    </tr>\n",
       "    <tr>\n",
       "      <th>Consultor</th>\n",
       "      <th></th>\n",
       "    </tr>\n",
       "  </thead>\n",
       "  <tbody>\n",
       "    <tr>\n",
       "      <th>DANDARA MORERIO</th>\n",
       "      <td>301</td>\n",
       "    </tr>\n",
       "  </tbody>\n",
       "</table>\n",
       "</div>"
      ],
      "text/plain": [
       "                 Total\n",
       "Consultor             \n",
       "DANDARA MORERIO    301"
      ]
     },
     "execution_count": 9,
     "metadata": {},
     "output_type": "execute_result"
    }
   ],
   "source": [
    "#2. O consultor que tem mais clientes\n",
    "consultor = consultores.head(1)\n",
    "consultor"
   ]
  },
  {
   "cell_type": "code",
   "execution_count": 10,
   "id": "35ba6f8f",
   "metadata": {},
   "outputs": [
    {
     "data": {
      "text/html": [
       "<div>\n",
       "<style scoped>\n",
       "    .dataframe tbody tr th:only-of-type {\n",
       "        vertical-align: middle;\n",
       "    }\n",
       "\n",
       "    .dataframe tbody tr th {\n",
       "        vertical-align: top;\n",
       "    }\n",
       "\n",
       "    .dataframe thead th {\n",
       "        text-align: right;\n",
       "    }\n",
       "</style>\n",
       "<table border=\"1\" class=\"dataframe\">\n",
       "  <thead>\n",
       "    <tr style=\"text-align: right;\">\n",
       "      <th></th>\n",
       "      <th>Total</th>\n",
       "    </tr>\n",
       "    <tr>\n",
       "      <th>Professor</th>\n",
       "      <th></th>\n",
       "    </tr>\n",
       "  </thead>\n",
       "  <tbody>\n",
       "    <tr>\n",
       "      <th>SEM PROFESSOR</th>\n",
       "      <td>984</td>\n",
       "    </tr>\n",
       "    <tr>\n",
       "      <th>ANA PAULA NASCIMENTO</th>\n",
       "      <td>55</td>\n",
       "    </tr>\n",
       "    <tr>\n",
       "      <th>BEATRIZ FERNANDES FROTA</th>\n",
       "      <td>19</td>\n",
       "    </tr>\n",
       "    <tr>\n",
       "      <th>DIEGO PEREIRA</th>\n",
       "      <td>14</td>\n",
       "    </tr>\n",
       "    <tr>\n",
       "      <th>FERNADO SOARES</th>\n",
       "      <td>12</td>\n",
       "    </tr>\n",
       "    <tr>\n",
       "      <th>YAGO OLIVEIRA</th>\n",
       "      <td>12</td>\n",
       "    </tr>\n",
       "    <tr>\n",
       "      <th>RENATO FIGUEIREDO</th>\n",
       "      <td>6</td>\n",
       "    </tr>\n",
       "    <tr>\n",
       "      <th>ANDRÉ RICARDO DA COSTA GARNECHO</th>\n",
       "      <td>1</td>\n",
       "    </tr>\n",
       "  </tbody>\n",
       "</table>\n",
       "</div>"
      ],
      "text/plain": [
       "                                 Total\n",
       "Professor                             \n",
       "SEM PROFESSOR                      984\n",
       "ANA PAULA NASCIMENTO                55\n",
       "BEATRIZ FERNANDES FROTA             19\n",
       "DIEGO PEREIRA                       14\n",
       "FERNADO SOARES                      12\n",
       "YAGO OLIVEIRA                       12\n",
       "RENATO FIGUEIREDO                    6\n",
       "ANDRÉ RICARDO DA COSTA GARNECHO      1"
      ]
     },
     "execution_count": 10,
     "metadata": {},
     "output_type": "execute_result"
    }
   ],
   "source": [
    "correcao = {'-':'SEM PROFESSOR'}\n",
    "df['Professor'].replace(correcao, inplace= True)\n",
    "professores = df[['Professor']].groupby('Professor').agg(Total=('Professor','count')).sort_values(by='Total', ascending=False)\n",
    "professores.head(8)"
   ]
  },
  {
   "cell_type": "code",
   "execution_count": null,
   "id": "30837521",
   "metadata": {},
   "outputs": [],
   "source": [
    "#3. Professor que tem mais alunos\n",
    "professor = professores[1:2]\n",
    "professor"
   ]
  },
  {
   "cell_type": "code",
   "execution_count": 80,
   "id": "6732ebfe",
   "metadata": {},
   "outputs": [],
   "source": [
    "#Corrigir 1 registro específico no DF\n",
    "correcao = {'FUNCIONAL + MUSCULAÇÃO, NATAÇÃO':'FUNCIONAL + MUSCULAÇÃO + NATAÇÃO'}\n",
    "df['Modalidade'].replace(correcao, inplace= True)\n",
    "#Cria um DF limpo\n",
    "temp = pd.DataFrame()\n",
    "#Separa os registros em colunas diferentes\n",
    "#temp[['Código de cliente']] = df['Código de cliente']\n",
    "#temp[['sexo']] = df['Sexo']\n",
    "#correcao = {'-':'NÃO PREENCHIDO','':'NÃO PREENCHIDO'}\n",
    "#temp['sexo'].replace(correcao, inplace= True)\n",
    "temp[['modalidade1','modalidade2','modalidade3']] = df['Modalidade'].str.split('+', expand = True)\n",
    "#Padronização dos registros no dataframe modalidade\n",
    "correcao = {'MUSCULAÇÃO ': 'MUSCULAÇÃO',' MUSCULAÇÃO':'MUSCULAÇÃO',' MUSCULAÇÃO ':'MUSCULAÇÃO','FUNCIONAL ':'FUNCIONAL',' FUNCIONAL':'FUNCIONAL','NATAÇÃO ':'NATAÇÃO',' NATAÇÃO':'NATAÇÃO','-':'PLANO COMPLETO'}\n",
    "temp.replace(correcao, inplace= True)"
   ]
  },
  {
   "cell_type": "code",
   "execution_count": 81,
   "id": "80b787e0",
   "metadata": {
    "scrolled": true
   },
   "outputs": [
    {
     "data": {
      "text/html": [
       "<div>\n",
       "<style scoped>\n",
       "    .dataframe tbody tr th:only-of-type {\n",
       "        vertical-align: middle;\n",
       "    }\n",
       "\n",
       "    .dataframe tbody tr th {\n",
       "        vertical-align: top;\n",
       "    }\n",
       "\n",
       "    .dataframe thead th {\n",
       "        text-align: right;\n",
       "    }\n",
       "</style>\n",
       "<table border=\"1\" class=\"dataframe\">\n",
       "  <thead>\n",
       "    <tr style=\"text-align: right;\">\n",
       "      <th></th>\n",
       "      <th>modalidade1</th>\n",
       "      <th>modalidade2</th>\n",
       "      <th>modalidade3</th>\n",
       "    </tr>\n",
       "  </thead>\n",
       "  <tbody>\n",
       "    <tr>\n",
       "      <th>0</th>\n",
       "      <td>PLANO COMPLETO</td>\n",
       "      <td>None</td>\n",
       "      <td>None</td>\n",
       "    </tr>\n",
       "    <tr>\n",
       "      <th>1</th>\n",
       "      <td>PLANO COMPLETO</td>\n",
       "      <td>None</td>\n",
       "      <td>None</td>\n",
       "    </tr>\n",
       "    <tr>\n",
       "      <th>2</th>\n",
       "      <td>PLANO COMPLETO</td>\n",
       "      <td>None</td>\n",
       "      <td>None</td>\n",
       "    </tr>\n",
       "    <tr>\n",
       "      <th>3</th>\n",
       "      <td>FUNCIONAL</td>\n",
       "      <td>MUSCULAÇÃO</td>\n",
       "      <td>None</td>\n",
       "    </tr>\n",
       "    <tr>\n",
       "      <th>4</th>\n",
       "      <td>FUNCIONAL</td>\n",
       "      <td>MUSCULAÇÃO</td>\n",
       "      <td>None</td>\n",
       "    </tr>\n",
       "    <tr>\n",
       "      <th>...</th>\n",
       "      <td>...</td>\n",
       "      <td>...</td>\n",
       "      <td>...</td>\n",
       "    </tr>\n",
       "    <tr>\n",
       "      <th>1098</th>\n",
       "      <td>PLANO COMPLETO</td>\n",
       "      <td>None</td>\n",
       "      <td>None</td>\n",
       "    </tr>\n",
       "    <tr>\n",
       "      <th>1099</th>\n",
       "      <td>PLANO COMPLETO</td>\n",
       "      <td>None</td>\n",
       "      <td>None</td>\n",
       "    </tr>\n",
       "    <tr>\n",
       "      <th>1100</th>\n",
       "      <td>PLANO COMPLETO</td>\n",
       "      <td>None</td>\n",
       "      <td>None</td>\n",
       "    </tr>\n",
       "    <tr>\n",
       "      <th>1101</th>\n",
       "      <td>PLANO COMPLETO</td>\n",
       "      <td>None</td>\n",
       "      <td>None</td>\n",
       "    </tr>\n",
       "    <tr>\n",
       "      <th>1102</th>\n",
       "      <td>NATAÇÃO</td>\n",
       "      <td>FUNCIONAL</td>\n",
       "      <td>None</td>\n",
       "    </tr>\n",
       "  </tbody>\n",
       "</table>\n",
       "<p>1103 rows × 3 columns</p>\n",
       "</div>"
      ],
      "text/plain": [
       "         modalidade1 modalidade2 modalidade3\n",
       "0     PLANO COMPLETO        None        None\n",
       "1     PLANO COMPLETO        None        None\n",
       "2     PLANO COMPLETO        None        None\n",
       "3          FUNCIONAL  MUSCULAÇÃO        None\n",
       "4          FUNCIONAL  MUSCULAÇÃO        None\n",
       "...              ...         ...         ...\n",
       "1098  PLANO COMPLETO        None        None\n",
       "1099  PLANO COMPLETO        None        None\n",
       "1100  PLANO COMPLETO        None        None\n",
       "1101  PLANO COMPLETO        None        None\n",
       "1102         NATAÇÃO   FUNCIONAL        None\n",
       "\n",
       "[1103 rows x 3 columns]"
      ]
     },
     "execution_count": 81,
     "metadata": {},
     "output_type": "execute_result"
    }
   ],
   "source": [
    "temp"
   ]
  },
  {
   "cell_type": "code",
   "execution_count": 99,
   "id": "6d5cd818",
   "metadata": {},
   "outputs": [
    {
     "data": {
      "text/html": [
       "<div>\n",
       "<style scoped>\n",
       "    .dataframe tbody tr th:only-of-type {\n",
       "        vertical-align: middle;\n",
       "    }\n",
       "\n",
       "    .dataframe tbody tr th {\n",
       "        vertical-align: top;\n",
       "    }\n",
       "\n",
       "    .dataframe thead th {\n",
       "        text-align: right;\n",
       "    }\n",
       "</style>\n",
       "<table border=\"1\" class=\"dataframe\">\n",
       "  <thead>\n",
       "    <tr style=\"text-align: right;\">\n",
       "      <th></th>\n",
       "      <th>Total</th>\n",
       "    </tr>\n",
       "  </thead>\n",
       "  <tbody>\n",
       "    <tr>\n",
       "      <th>0</th>\n",
       "      <td>PLANO COMPLETO</td>\n",
       "    </tr>\n",
       "    <tr>\n",
       "      <th>1</th>\n",
       "      <td>PLANO COMPLETO</td>\n",
       "    </tr>\n",
       "    <tr>\n",
       "      <th>2</th>\n",
       "      <td>PLANO COMPLETO</td>\n",
       "    </tr>\n",
       "    <tr>\n",
       "      <th>3</th>\n",
       "      <td>FUNCIONAL</td>\n",
       "    </tr>\n",
       "    <tr>\n",
       "      <th>4</th>\n",
       "      <td>FUNCIONAL</td>\n",
       "    </tr>\n",
       "  </tbody>\n",
       "</table>\n",
       "</div>"
      ],
      "text/plain": [
       "            Total\n",
       "0  PLANO COMPLETO\n",
       "1  PLANO COMPLETO\n",
       "2  PLANO COMPLETO\n",
       "3       FUNCIONAL\n",
       "4       FUNCIONAL"
      ]
     },
     "execution_count": 99,
     "metadata": {},
     "output_type": "execute_result"
    }
   ],
   "source": [
    "modalidades = pd.DataFrame()\n",
    "modalidades['Total'] = pd.concat([temp['modalidade1'],temp['modalidade2'],temp['modalidade3']], ignore_index=True)\n",
    "modalidades.head(5)"
   ]
  },
  {
   "cell_type": "code",
   "execution_count": 102,
   "id": "14c1e84b",
   "metadata": {},
   "outputs": [
    {
     "data": {
      "text/html": [
       "<div>\n",
       "<style scoped>\n",
       "    .dataframe tbody tr th:only-of-type {\n",
       "        vertical-align: middle;\n",
       "    }\n",
       "\n",
       "    .dataframe tbody tr th {\n",
       "        vertical-align: top;\n",
       "    }\n",
       "\n",
       "    .dataframe thead th {\n",
       "        text-align: right;\n",
       "    }\n",
       "</style>\n",
       "<table border=\"1\" class=\"dataframe\">\n",
       "  <thead>\n",
       "    <tr style=\"text-align: right;\">\n",
       "      <th></th>\n",
       "      <th>Total</th>\n",
       "    </tr>\n",
       "  </thead>\n",
       "  <tbody>\n",
       "    <tr>\n",
       "      <th>PLANO COMPLETO</th>\n",
       "      <td>772</td>\n",
       "    </tr>\n",
       "    <tr>\n",
       "      <th>FUNCIONAL</th>\n",
       "      <td>116</td>\n",
       "    </tr>\n",
       "    <tr>\n",
       "      <th>NATAÇÃO INFANTIL</th>\n",
       "      <td>114</td>\n",
       "    </tr>\n",
       "    <tr>\n",
       "      <th>NATAÇÃO</th>\n",
       "      <td>89</td>\n",
       "    </tr>\n",
       "    <tr>\n",
       "      <th>MUSCULAÇÃO</th>\n",
       "      <td>85</td>\n",
       "    </tr>\n",
       "    <tr>\n",
       "      <th>PILATES</th>\n",
       "      <td>44</td>\n",
       "    </tr>\n",
       "    <tr>\n",
       "      <th>GINÁSTICA</th>\n",
       "      <td>1</td>\n",
       "    </tr>\n",
       "  </tbody>\n",
       "</table>\n",
       "</div>"
      ],
      "text/plain": [
       "                  Total\n",
       "PLANO COMPLETO      772\n",
       "FUNCIONAL           116\n",
       "NATAÇÃO INFANTIL    114\n",
       "NATAÇÃO              89\n",
       "MUSCULAÇÃO           85\n",
       "PILATES              44\n",
       "GINÁSTICA             1"
      ]
     },
     "execution_count": 102,
     "metadata": {},
     "output_type": "execute_result"
    }
   ],
   "source": [
    "#4. Qual é a modalidade mais consumida\n",
    "modalidades = pd.DataFrame(modalidades['Total'].value_counts())\n",
    "modalidades"
   ]
  },
  {
   "cell_type": "code",
   "execution_count": 105,
   "id": "4b225519",
   "metadata": {},
   "outputs": [
    {
     "data": {
      "text/html": [
       "<div>\n",
       "<style scoped>\n",
       "    .dataframe tbody tr th:only-of-type {\n",
       "        vertical-align: middle;\n",
       "    }\n",
       "\n",
       "    .dataframe tbody tr th {\n",
       "        vertical-align: top;\n",
       "    }\n",
       "\n",
       "    .dataframe thead th {\n",
       "        text-align: right;\n",
       "    }\n",
       "</style>\n",
       "<table border=\"1\" class=\"dataframe\">\n",
       "  <thead>\n",
       "    <tr style=\"text-align: right;\">\n",
       "      <th></th>\n",
       "      <th>Total</th>\n",
       "    </tr>\n",
       "  </thead>\n",
       "  <tbody>\n",
       "    <tr>\n",
       "      <th>PLANO COMPLETO</th>\n",
       "      <td>772</td>\n",
       "    </tr>\n",
       "  </tbody>\n",
       "</table>\n",
       "</div>"
      ],
      "text/plain": [
       "                Total\n",
       "PLANO COMPLETO    772"
      ]
     },
     "execution_count": 105,
     "metadata": {},
     "output_type": "execute_result"
    }
   ],
   "source": [
    "modalidades[0:1]"
   ]
  }
 ],
 "metadata": {
  "kernelspec": {
   "display_name": "Python 3",
   "language": "python",
   "name": "python3"
  },
  "language_info": {
   "codemirror_mode": {
    "name": "ipython",
    "version": 3
   },
   "file_extension": ".py",
   "mimetype": "text/x-python",
   "name": "python",
   "nbconvert_exporter": "python",
   "pygments_lexer": "ipython3",
   "version": "3.8.8"
  }
 },
 "nbformat": 4,
 "nbformat_minor": 5
}
