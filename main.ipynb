{
 "cells": [
  {
   "cell_type": "code",
   "execution_count": null,
   "id": "e624849d",
   "metadata": {},
   "outputs": [],
   "source": [
    "import pandas as pd\n",
    "import numpy as np\n",
    "from datetime import datetime, timedelta\n",
    "import streamlit as st\n",
    "import plotly.express as px\n",
    "#import plotly.express == 5.5.0"
   ]
  },
  {
   "cell_type": "code",
   "execution_count": null,
   "id": "5d99b1b4",
   "metadata": {},
   "outputs": [],
   "source": [
    "df = pd.read_csv('pompeia.csv', sep = ';')"
   ]
  },
  {
   "cell_type": "code",
   "execution_count": null,
   "id": "456189fd",
   "metadata": {},
   "outputs": [],
   "source": [
    "#Dividir a coluna do ultimo status em duas novas colunas no dataframe original, exluindo a coluna original\n",
    "df[['data_ultimo_status', 'hora_ultimo_status']] = df[\"Último Status\"].str.split(' ', expand = True)\n",
    "df.drop(columns =[\"Último Status\"], inplace = True) "
   ]
  },
  {
   "cell_type": "code",
   "execution_count": null,
   "id": "8d11f80b",
   "metadata": {},
   "outputs": [],
   "source": [
    "# Convertendo strings para date e time\n",
    "df['Nascimento'] = pd.to_datetime(df['Nascimento'], format=\"%d/%m/%Y\")\n",
    "df['data_ultimo_status'] = pd.to_datetime(df['data_ultimo_status'], format=\"%d/%m/%Y\")\n",
    "df['hora_ultimo_status'] = pd.to_datetime(df['hora_ultimo_status'], format=\"%H:%M\")"
   ]
  },
  {
   "cell_type": "code",
   "execution_count": null,
   "id": "53f75f96",
   "metadata": {},
   "outputs": [],
   "source": [
    "#O cliente sedentário é o primeiro registro na ordenação por data do último status\n",
    "cliente_sedentario = df[['Código','data_ultimo_status']].sort_values(by=['data_ultimo_status'])\n",
    "cliente_sedentario = cliente_sedentario.head(1)"
   ]
  },
  {
   "cell_type": "code",
   "execution_count": null,
   "id": "f93c5ab0",
   "metadata": {},
   "outputs": [],
   "source": [
    "#1. Qual é o cliente que não vai a mais tempo?\n",
    "cliente_sedentario"
   ]
  },
  {
   "cell_type": "code",
   "execution_count": null,
   "id": "56e6304b",
   "metadata": {},
   "outputs": [],
   "source": [
    "consultores = df[['Consultor']].groupby('Consultor').agg(Total=('Consultor','count')).sort_values(by='Total', ascending=False)\n",
    "consultores.head(7)"
   ]
  },
  {
   "cell_type": "code",
   "execution_count": null,
   "id": "13aac66d",
   "metadata": {},
   "outputs": [],
   "source": [
    "#2. O consultor que tem mais clientes\n",
    "consultor = consultores.head(1)\n",
    "consultor"
   ]
  },
  {
   "cell_type": "code",
   "execution_count": null,
   "id": "35ba6f8f",
   "metadata": {},
   "outputs": [],
   "source": [
    "professores = df[['Professor']].groupby('Professor').agg(Total=('Professor','count')).sort_values(by='Total', ascending=False)\n",
    "professores.head(8)"
   ]
  },
  {
   "cell_type": "code",
   "execution_count": null,
   "id": "30837521",
   "metadata": {},
   "outputs": [],
   "source": [
    "#3. Professor que tem mais alunos\n",
    "professor = professores.head(2)\n",
    "professor"
   ]
  },
  {
   "cell_type": "code",
   "execution_count": null,
   "id": "6732ebfe",
   "metadata": {},
   "outputs": [],
   "source": [
    "#Corrigir 1 registro específico no DF\n",
    "correcao = {'FUNCIONAL + MUSCULAÇÃO, NATAÇÃO':'FUNCIONAL + MUSCULAÇÃO + NATAÇÃO'}\n",
    "df.replace(correcao, inplace= True)\n",
    "#Cria um DF limpo\n",
    "modalidades = pd.DataFrame()\n",
    "#Separa os registros em colunas diferentes\n",
    "modalidades[['sexo']] = df['Sexo']\n",
    "modalidades[['Modalidade1','Modalidade2','Modalidade3']] = df['Modalidade'].str.split('+', expand = True)\n",
    "#Padronização dos registros no dataframe modalidade\n",
    "correcao = {'MUSCULAÇÃO ': 'MUSCULAÇÃO',' MUSCULAÇÃO':'MUSCULAÇÃO',' MUSCULAÇÃO ':'MUSCULAÇÃO','FUNCIONAL ':'FUNCIONAL',' FUNCIONAL':'FUNCIONAL','NATAÇÃO ':'NATAÇÃO',' NATAÇÃO':'NATAÇÃO','-':'PLANO COMPLETO'}\n",
    "modalidades.replace(correcao, inplace= True)"
   ]
  },
  {
   "cell_type": "code",
   "execution_count": null,
   "id": "14c1e84b",
   "metadata": {},
   "outputs": [],
   "source": [
    "#4. Qual é a modalidade mais consumida\n",
    "modalidade = pd.DataFrame(modalidades['Modalidade1'].value_counts())\n",
    "modalidade"
   ]
  },
  {
   "cell_type": "code",
   "execution_count": null,
   "id": "d543c013",
   "metadata": {},
   "outputs": [],
   "source": []
  },
  {
   "cell_type": "code",
   "execution_count": null,
   "id": "8ec45dd8",
   "metadata": {},
   "outputs": [],
   "source": []
  },
  {
   "cell_type": "code",
   "execution_count": null,
   "id": "4fe93fe7",
   "metadata": {},
   "outputs": [],
   "source": []
  }
 ],
 "metadata": {
  "kernelspec": {
   "display_name": "Python 3",
   "language": "python",
   "name": "python3"
  },
  "language_info": {
   "codemirror_mode": {
    "name": "ipython",
    "version": 3
   },
   "file_extension": ".py",
   "mimetype": "text/x-python",
   "name": "python",
   "nbconvert_exporter": "python",
   "pygments_lexer": "ipython3",
   "version": "3.8.8"
  }
 },
 "nbformat": 4,
 "nbformat_minor": 5
}
